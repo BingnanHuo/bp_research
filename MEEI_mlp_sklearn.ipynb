{
 "cells": [
  {
   "cell_type": "code",
   "execution_count": 1,
   "metadata": {},
   "outputs": [
    {
     "ename": "ModuleNotFoundError",
     "evalue": "No module named 'GetLandmarks_og'",
     "output_type": "error",
     "traceback": [
      "\u001b[0;31m---------------------------------------------------------------------------\u001b[0m",
      "\u001b[0;31mModuleNotFoundError\u001b[0m                       Traceback (most recent call last)",
      "Cell \u001b[0;32mIn [1], line 11\u001b[0m\n\u001b[1;32m      9\u001b[0m \u001b[39mfrom\u001b[39;00m \u001b[39mProcessResults\u001b[39;00m \u001b[39mimport\u001b[39;00m \u001b[39m*\u001b[39m\n\u001b[1;32m     10\u001b[0m \u001b[39mfrom\u001b[39;00m \u001b[39mDatasetTester\u001b[39;00m \u001b[39mimport\u001b[39;00m \u001b[39m*\u001b[39m\n\u001b[0;32m---> 11\u001b[0m \u001b[39mfrom\u001b[39;00m \u001b[39mGetLandmarks_og\u001b[39;00m \u001b[39mimport\u001b[39;00m GetLandmarks \n\u001b[1;32m     12\u001b[0m \u001b[39m#from LandmarkTester_alt import LandmarkTester\u001b[39;00m\n\u001b[1;32m     14\u001b[0m \u001b[39mfrom\u001b[39;00m \u001b[39mlandmark_utils\u001b[39;00m \u001b[39mimport\u001b[39;00m vis_landmarks, compare_landmarks\n",
      "\u001b[0;31mModuleNotFoundError\u001b[0m: No module named 'GetLandmarks_og'"
     ]
    }
   ],
   "source": [
    "%matplotlib widget\n",
    "\n",
    "import random\n",
    "import numpy as np\n",
    "import pandas as pd\n",
    "import matplotlib.pyplot as plt\n",
    "\n",
    "\n",
    "from ProcessResults import *\n",
    "from DatasetTester import *\n",
    "from GetLandmarks_og import GetLandmarks \n",
    "#from LandmarkTester_alt import LandmarkTester\n",
    "\n",
    "from landmark_utils import vis_landmarks, compare_landmarks\n",
    "from vis_utils import *\n",
    "\n",
    "\n",
    "import cv2\n",
    "import numpy as np\n",
    "import time\n",
    "import timeit\n",
    "from pathlib import Path\n",
    "import csv\n",
    "import pickle\n",
    "\n",
    "from sklearn.neural_network import MLPClassifier\n",
    "from sklearn.metrics import mean_squared_error, accuracy_score\n",
    "from sklearn.preprocessing import LabelEncoder, StandardScaler, MinMaxScaler, PowerTransformer, QuantileTransformer\n",
    "from sklearn.decomposition import PCA\n",
    "from sklearn.manifold import TSNE\n",
    "from sklearn.model_selection import GroupShuffleSplit, ShuffleSplit, cross_val_score, cross_val_predict, cross_validate, GridSearchCV\n",
    "\n",
    "\n",
    "from mpl_toolkits.mplot3d import Axes3D\n",
    "\n",
    "from scipy import linalg\n",
    "import seaborn as sns\n"
   ]
  },
  {
   "cell_type": "code",
   "execution_count": null,
   "metadata": {},
   "outputs": [],
   "source": [
    "MEEI_path = Path('./MEEI_Standard_Set')\n",
    "pat_info = pd.read_excel(MEEI_path/\"pat_info.xlsx\", sheet_name='Sheet1')"
   ]
  },
  {
   "cell_type": "code",
   "execution_count": null,
   "metadata": {
    "tags": []
   },
   "outputs": [],
   "source": [
    "pat_info = pd.read_pickle('MEEI_pat_info.pkl')\n",
    "\n",
    "with open('all_pats_processed_data.pickle','rb') as f:\n",
    "    loaded_pats = pickle.load(f)"
   ]
  },
  {
   "cell_type": "code",
   "execution_count": null,
   "metadata": {},
   "outputs": [
    {
     "data": {
      "text/html": [
       "<div>\n",
       "<style scoped>\n",
       "    .dataframe tbody tr th:only-of-type {\n",
       "        vertical-align: middle;\n",
       "    }\n",
       "\n",
       "    .dataframe tbody tr th {\n",
       "        vertical-align: top;\n",
       "    }\n",
       "\n",
       "    .dataframe thead th {\n",
       "        text-align: right;\n",
       "    }\n",
       "</style>\n",
       "<table border=\"1\" class=\"dataframe\">\n",
       "  <thead>\n",
       "    <tr style=\"text-align: right;\">\n",
       "      <th></th>\n",
       "      <th>Category</th>\n",
       "      <th>Sub-category</th>\n",
       "      <th>#</th>\n",
       "      <th>Side</th>\n",
       "      <th>Gender</th>\n",
       "      <th>Age</th>\n",
       "      <th>Path</th>\n",
       "      <th>HB_scale</th>\n",
       "    </tr>\n",
       "  </thead>\n",
       "  <tbody>\n",
       "    <tr>\n",
       "      <th>0</th>\n",
       "      <td>Flaccid</td>\n",
       "      <td>Complete</td>\n",
       "      <td>1</td>\n",
       "      <td>Left</td>\n",
       "      <td>Male</td>\n",
       "      <td>54</td>\n",
       "      <td>MEEI_Standard_Set/Flaccid/CompleteFlaccid/Comp...</td>\n",
       "      <td>6</td>\n",
       "    </tr>\n",
       "    <tr>\n",
       "      <th>1</th>\n",
       "      <td>Flaccid</td>\n",
       "      <td>Complete</td>\n",
       "      <td>2</td>\n",
       "      <td>Right</td>\n",
       "      <td>Female</td>\n",
       "      <td>16</td>\n",
       "      <td>MEEI_Standard_Set/Flaccid/CompleteFlaccid/Comp...</td>\n",
       "      <td>6</td>\n",
       "    </tr>\n",
       "    <tr>\n",
       "      <th>2</th>\n",
       "      <td>Flaccid</td>\n",
       "      <td>Complete</td>\n",
       "      <td>3</td>\n",
       "      <td>Right</td>\n",
       "      <td>Male</td>\n",
       "      <td>38</td>\n",
       "      <td>MEEI_Standard_Set/Flaccid/CompleteFlaccid/Comp...</td>\n",
       "      <td>6</td>\n",
       "    </tr>\n",
       "    <tr>\n",
       "      <th>3</th>\n",
       "      <td>Flaccid</td>\n",
       "      <td>Complete</td>\n",
       "      <td>4</td>\n",
       "      <td>Left</td>\n",
       "      <td>Female</td>\n",
       "      <td>31</td>\n",
       "      <td>MEEI_Standard_Set/Flaccid/CompleteFlaccid/Comp...</td>\n",
       "      <td>6</td>\n",
       "    </tr>\n",
       "    <tr>\n",
       "      <th>4</th>\n",
       "      <td>Flaccid</td>\n",
       "      <td>Complete</td>\n",
       "      <td>5</td>\n",
       "      <td>Left</td>\n",
       "      <td>Female</td>\n",
       "      <td>52</td>\n",
       "      <td>MEEI_Standard_Set/Flaccid/CompleteFlaccid/Comp...</td>\n",
       "      <td>6</td>\n",
       "    </tr>\n",
       "    <tr>\n",
       "      <th>5</th>\n",
       "      <td>Flaccid</td>\n",
       "      <td>Mild</td>\n",
       "      <td>1</td>\n",
       "      <td>Left</td>\n",
       "      <td>Male</td>\n",
       "      <td>72</td>\n",
       "      <td>MEEI_Standard_Set/Flaccid/MildFlaccid/MildFlac...</td>\n",
       "      <td>3</td>\n",
       "    </tr>\n",
       "    <tr>\n",
       "      <th>6</th>\n",
       "      <td>Flaccid</td>\n",
       "      <td>Mild</td>\n",
       "      <td>2</td>\n",
       "      <td>Right</td>\n",
       "      <td>Female</td>\n",
       "      <td>55</td>\n",
       "      <td>MEEI_Standard_Set/Flaccid/MildFlaccid/MildFlac...</td>\n",
       "      <td>3</td>\n",
       "    </tr>\n",
       "    <tr>\n",
       "      <th>7</th>\n",
       "      <td>Flaccid</td>\n",
       "      <td>Mild</td>\n",
       "      <td>3</td>\n",
       "      <td>Left</td>\n",
       "      <td>Male</td>\n",
       "      <td>75</td>\n",
       "      <td>MEEI_Standard_Set/Flaccid/MildFlaccid/MildFlac...</td>\n",
       "      <td>3</td>\n",
       "    </tr>\n",
       "    <tr>\n",
       "      <th>8</th>\n",
       "      <td>Flaccid</td>\n",
       "      <td>Moderate</td>\n",
       "      <td>1</td>\n",
       "      <td>Left</td>\n",
       "      <td>Male</td>\n",
       "      <td>51</td>\n",
       "      <td>MEEI_Standard_Set/Flaccid/ModerateFlaccid/Mode...</td>\n",
       "      <td>4</td>\n",
       "    </tr>\n",
       "    <tr>\n",
       "      <th>9</th>\n",
       "      <td>Flaccid</td>\n",
       "      <td>Moderate</td>\n",
       "      <td>3</td>\n",
       "      <td>Left</td>\n",
       "      <td>Female</td>\n",
       "      <td>62</td>\n",
       "      <td>MEEI_Standard_Set/Flaccid/ModerateFlaccid/Mode...</td>\n",
       "      <td>4</td>\n",
       "    </tr>\n",
       "    <tr>\n",
       "      <th>10</th>\n",
       "      <td>Flaccid</td>\n",
       "      <td>Moderate</td>\n",
       "      <td>4</td>\n",
       "      <td>Right</td>\n",
       "      <td>Male</td>\n",
       "      <td>21</td>\n",
       "      <td>MEEI_Standard_Set/Flaccid/ModerateFlaccid/Mode...</td>\n",
       "      <td>4</td>\n",
       "    </tr>\n",
       "    <tr>\n",
       "      <th>11</th>\n",
       "      <td>Flaccid</td>\n",
       "      <td>Moderate</td>\n",
       "      <td>5</td>\n",
       "      <td>Right</td>\n",
       "      <td>Female</td>\n",
       "      <td>64</td>\n",
       "      <td>MEEI_Standard_Set/Flaccid/ModerateFlaccid/Mode...</td>\n",
       "      <td>4</td>\n",
       "    </tr>\n",
       "    <tr>\n",
       "      <th>12</th>\n",
       "      <td>Flaccid</td>\n",
       "      <td>NearNormal</td>\n",
       "      <td>1</td>\n",
       "      <td>Left</td>\n",
       "      <td>Female</td>\n",
       "      <td>39</td>\n",
       "      <td>MEEI_Standard_Set/Flaccid/NearNormalFlaccid/Ne...</td>\n",
       "      <td>2</td>\n",
       "    </tr>\n",
       "    <tr>\n",
       "      <th>13</th>\n",
       "      <td>Flaccid</td>\n",
       "      <td>NearNormal</td>\n",
       "      <td>2</td>\n",
       "      <td>Right</td>\n",
       "      <td>Female</td>\n",
       "      <td>53</td>\n",
       "      <td>MEEI_Standard_Set/Flaccid/NearNormalFlaccid/Ne...</td>\n",
       "      <td>2</td>\n",
       "    </tr>\n",
       "    <tr>\n",
       "      <th>14</th>\n",
       "      <td>Flaccid</td>\n",
       "      <td>NearNormal</td>\n",
       "      <td>4</td>\n",
       "      <td>Left</td>\n",
       "      <td>Male</td>\n",
       "      <td>30</td>\n",
       "      <td>MEEI_Standard_Set/Flaccid/NearNormalFlaccid/Ne...</td>\n",
       "      <td>2</td>\n",
       "    </tr>\n",
       "    <tr>\n",
       "      <th>15</th>\n",
       "      <td>Flaccid</td>\n",
       "      <td>NearNormal</td>\n",
       "      <td>5</td>\n",
       "      <td>Right</td>\n",
       "      <td>Male</td>\n",
       "      <td>47</td>\n",
       "      <td>MEEI_Standard_Set/Flaccid/NearNormalFlaccid/Ne...</td>\n",
       "      <td>2</td>\n",
       "    </tr>\n",
       "    <tr>\n",
       "      <th>16</th>\n",
       "      <td>Flaccid</td>\n",
       "      <td>Severe</td>\n",
       "      <td>1</td>\n",
       "      <td>Left</td>\n",
       "      <td>Male</td>\n",
       "      <td>46</td>\n",
       "      <td>MEEI_Standard_Set/Flaccid/SevereFlaccid/Severe...</td>\n",
       "      <td>5</td>\n",
       "    </tr>\n",
       "    <tr>\n",
       "      <th>17</th>\n",
       "      <td>Flaccid</td>\n",
       "      <td>Severe</td>\n",
       "      <td>2</td>\n",
       "      <td>Left</td>\n",
       "      <td>Female</td>\n",
       "      <td>58</td>\n",
       "      <td>MEEI_Standard_Set/Flaccid/SevereFlaccid/Severe...</td>\n",
       "      <td>5</td>\n",
       "    </tr>\n",
       "    <tr>\n",
       "      <th>18</th>\n",
       "      <td>Flaccid</td>\n",
       "      <td>Severe</td>\n",
       "      <td>3</td>\n",
       "      <td>Right</td>\n",
       "      <td>Female</td>\n",
       "      <td>28</td>\n",
       "      <td>MEEI_Standard_Set/Flaccid/SevereFlaccid/Severe...</td>\n",
       "      <td>5</td>\n",
       "    </tr>\n",
       "    <tr>\n",
       "      <th>19</th>\n",
       "      <td>Flaccid</td>\n",
       "      <td>Severe</td>\n",
       "      <td>5</td>\n",
       "      <td>Left</td>\n",
       "      <td>Female</td>\n",
       "      <td>50</td>\n",
       "      <td>MEEI_Standard_Set/Flaccid/SevereFlaccid/Severe...</td>\n",
       "      <td>5</td>\n",
       "    </tr>\n",
       "    <tr>\n",
       "      <th>20</th>\n",
       "      <td>Normal</td>\n",
       "      <td>NaN</td>\n",
       "      <td>1</td>\n",
       "      <td>NaN</td>\n",
       "      <td>Male</td>\n",
       "      <td>75</td>\n",
       "      <td>MEEI_Standard_Set/Normal/Normal1</td>\n",
       "      <td>1</td>\n",
       "    </tr>\n",
       "    <tr>\n",
       "      <th>21</th>\n",
       "      <td>Normal</td>\n",
       "      <td>NaN</td>\n",
       "      <td>2</td>\n",
       "      <td>NaN</td>\n",
       "      <td>Male</td>\n",
       "      <td>36</td>\n",
       "      <td>MEEI_Standard_Set/Normal/Normal2</td>\n",
       "      <td>1</td>\n",
       "    </tr>\n",
       "    <tr>\n",
       "      <th>22</th>\n",
       "      <td>Normal</td>\n",
       "      <td>NaN</td>\n",
       "      <td>3</td>\n",
       "      <td>NaN</td>\n",
       "      <td>Male</td>\n",
       "      <td>29</td>\n",
       "      <td>MEEI_Standard_Set/Normal/Normal3</td>\n",
       "      <td>1</td>\n",
       "    </tr>\n",
       "    <tr>\n",
       "      <th>23</th>\n",
       "      <td>Normal</td>\n",
       "      <td>NaN</td>\n",
       "      <td>4</td>\n",
       "      <td>NaN</td>\n",
       "      <td>Female</td>\n",
       "      <td>24</td>\n",
       "      <td>MEEI_Standard_Set/Normal/Normal4</td>\n",
       "      <td>1</td>\n",
       "    </tr>\n",
       "    <tr>\n",
       "      <th>24</th>\n",
       "      <td>Normal</td>\n",
       "      <td>NaN</td>\n",
       "      <td>5</td>\n",
       "      <td>NaN</td>\n",
       "      <td>Female</td>\n",
       "      <td>35</td>\n",
       "      <td>MEEI_Standard_Set/Normal/Normal5</td>\n",
       "      <td>1</td>\n",
       "    </tr>\n",
       "    <tr>\n",
       "      <th>25</th>\n",
       "      <td>Normal</td>\n",
       "      <td>NaN</td>\n",
       "      <td>6</td>\n",
       "      <td>NaN</td>\n",
       "      <td>Female</td>\n",
       "      <td>33</td>\n",
       "      <td>MEEI_Standard_Set/Normal/Normal6</td>\n",
       "      <td>1</td>\n",
       "    </tr>\n",
       "    <tr>\n",
       "      <th>26</th>\n",
       "      <td>Normal</td>\n",
       "      <td>NaN</td>\n",
       "      <td>7</td>\n",
       "      <td>NaN</td>\n",
       "      <td>Female</td>\n",
       "      <td>48</td>\n",
       "      <td>MEEI_Standard_Set/Normal/Normal7</td>\n",
       "      <td>1</td>\n",
       "    </tr>\n",
       "    <tr>\n",
       "      <th>27</th>\n",
       "      <td>Normal</td>\n",
       "      <td>NaN</td>\n",
       "      <td>8</td>\n",
       "      <td>NaN</td>\n",
       "      <td>Male</td>\n",
       "      <td>33</td>\n",
       "      <td>MEEI_Standard_Set/Normal/Normal8</td>\n",
       "      <td>1</td>\n",
       "    </tr>\n",
       "    <tr>\n",
       "      <th>28</th>\n",
       "      <td>Normal</td>\n",
       "      <td>NaN</td>\n",
       "      <td>9</td>\n",
       "      <td>NaN</td>\n",
       "      <td>Female</td>\n",
       "      <td>92</td>\n",
       "      <td>MEEI_Standard_Set/Normal/Normal9</td>\n",
       "      <td>1</td>\n",
       "    </tr>\n",
       "    <tr>\n",
       "      <th>29</th>\n",
       "      <td>Normal</td>\n",
       "      <td>NaN</td>\n",
       "      <td>10</td>\n",
       "      <td>NaN</td>\n",
       "      <td>Male</td>\n",
       "      <td>27</td>\n",
       "      <td>MEEI_Standard_Set/Normal/Normal10</td>\n",
       "      <td>1</td>\n",
       "    </tr>\n",
       "    <tr>\n",
       "      <th>30</th>\n",
       "      <td>Synkinetic</td>\n",
       "      <td>Complete</td>\n",
       "      <td>1</td>\n",
       "      <td>Right</td>\n",
       "      <td>Female</td>\n",
       "      <td>61</td>\n",
       "      <td>MEEI_Standard_Set/Synkinetic/CompleteSynkineti...</td>\n",
       "      <td>6</td>\n",
       "    </tr>\n",
       "    <tr>\n",
       "      <th>31</th>\n",
       "      <td>Synkinetic</td>\n",
       "      <td>Complete</td>\n",
       "      <td>2</td>\n",
       "      <td>Left</td>\n",
       "      <td>Female</td>\n",
       "      <td>68</td>\n",
       "      <td>MEEI_Standard_Set/Synkinetic/CompleteSynkineti...</td>\n",
       "      <td>6</td>\n",
       "    </tr>\n",
       "    <tr>\n",
       "      <th>32</th>\n",
       "      <td>Synkinetic</td>\n",
       "      <td>Complete</td>\n",
       "      <td>3</td>\n",
       "      <td>Right</td>\n",
       "      <td>Female</td>\n",
       "      <td>36</td>\n",
       "      <td>MEEI_Standard_Set/Synkinetic/CompleteSynkineti...</td>\n",
       "      <td>6</td>\n",
       "    </tr>\n",
       "    <tr>\n",
       "      <th>33</th>\n",
       "      <td>Synkinetic</td>\n",
       "      <td>Complete</td>\n",
       "      <td>4</td>\n",
       "      <td>Left</td>\n",
       "      <td>Male</td>\n",
       "      <td>55</td>\n",
       "      <td>MEEI_Standard_Set/Synkinetic/CompleteSynkineti...</td>\n",
       "      <td>6</td>\n",
       "    </tr>\n",
       "    <tr>\n",
       "      <th>34</th>\n",
       "      <td>Synkinetic</td>\n",
       "      <td>Mild</td>\n",
       "      <td>1</td>\n",
       "      <td>Left</td>\n",
       "      <td>Male</td>\n",
       "      <td>50</td>\n",
       "      <td>MEEI_Standard_Set/Synkinetic/MildSynkinetic/Mi...</td>\n",
       "      <td>3</td>\n",
       "    </tr>\n",
       "    <tr>\n",
       "      <th>35</th>\n",
       "      <td>Synkinetic</td>\n",
       "      <td>Mild</td>\n",
       "      <td>2</td>\n",
       "      <td>Right</td>\n",
       "      <td>Male</td>\n",
       "      <td>77</td>\n",
       "      <td>MEEI_Standard_Set/Synkinetic/MildSynkinetic/Mi...</td>\n",
       "      <td>3</td>\n",
       "    </tr>\n",
       "    <tr>\n",
       "      <th>36</th>\n",
       "      <td>Synkinetic</td>\n",
       "      <td>Mild</td>\n",
       "      <td>3</td>\n",
       "      <td>Right</td>\n",
       "      <td>Female</td>\n",
       "      <td>77</td>\n",
       "      <td>MEEI_Standard_Set/Synkinetic/MildSynkinetic/Mi...</td>\n",
       "      <td>3</td>\n",
       "    </tr>\n",
       "    <tr>\n",
       "      <th>37</th>\n",
       "      <td>Synkinetic</td>\n",
       "      <td>Mild</td>\n",
       "      <td>5</td>\n",
       "      <td>Left</td>\n",
       "      <td>Female</td>\n",
       "      <td>53</td>\n",
       "      <td>MEEI_Standard_Set/Synkinetic/MildSynkinetic/Mi...</td>\n",
       "      <td>3</td>\n",
       "    </tr>\n",
       "    <tr>\n",
       "      <th>38</th>\n",
       "      <td>Synkinetic</td>\n",
       "      <td>Moderate</td>\n",
       "      <td>1</td>\n",
       "      <td>Right</td>\n",
       "      <td>Female</td>\n",
       "      <td>59</td>\n",
       "      <td>MEEI_Standard_Set/Synkinetic/ModerateSynkineti...</td>\n",
       "      <td>4</td>\n",
       "    </tr>\n",
       "    <tr>\n",
       "      <th>39</th>\n",
       "      <td>Synkinetic</td>\n",
       "      <td>Moderate</td>\n",
       "      <td>2</td>\n",
       "      <td>Right</td>\n",
       "      <td>Female</td>\n",
       "      <td>60</td>\n",
       "      <td>MEEI_Standard_Set/Synkinetic/ModerateSynkineti...</td>\n",
       "      <td>4</td>\n",
       "    </tr>\n",
       "    <tr>\n",
       "      <th>40</th>\n",
       "      <td>Synkinetic</td>\n",
       "      <td>Moderate</td>\n",
       "      <td>3</td>\n",
       "      <td>Left</td>\n",
       "      <td>Female</td>\n",
       "      <td>58</td>\n",
       "      <td>MEEI_Standard_Set/Synkinetic/ModerateSynkineti...</td>\n",
       "      <td>4</td>\n",
       "    </tr>\n",
       "    <tr>\n",
       "      <th>41</th>\n",
       "      <td>Synkinetic</td>\n",
       "      <td>Moderate</td>\n",
       "      <td>5</td>\n",
       "      <td>Left</td>\n",
       "      <td>Male</td>\n",
       "      <td>42</td>\n",
       "      <td>MEEI_Standard_Set/Synkinetic/ModerateSynkineti...</td>\n",
       "      <td>4</td>\n",
       "    </tr>\n",
       "    <tr>\n",
       "      <th>42</th>\n",
       "      <td>Synkinetic</td>\n",
       "      <td>NearNormal</td>\n",
       "      <td>1</td>\n",
       "      <td>Right</td>\n",
       "      <td>Female</td>\n",
       "      <td>58</td>\n",
       "      <td>MEEI_Standard_Set/Synkinetic/NearNormalSynkine...</td>\n",
       "      <td>2</td>\n",
       "    </tr>\n",
       "    <tr>\n",
       "      <th>43</th>\n",
       "      <td>Synkinetic</td>\n",
       "      <td>NearNormal</td>\n",
       "      <td>2</td>\n",
       "      <td>Left</td>\n",
       "      <td>Female</td>\n",
       "      <td>46</td>\n",
       "      <td>MEEI_Standard_Set/Synkinetic/NearNormalSynkine...</td>\n",
       "      <td>2</td>\n",
       "    </tr>\n",
       "    <tr>\n",
       "      <th>44</th>\n",
       "      <td>Synkinetic</td>\n",
       "      <td>NearNormal</td>\n",
       "      <td>3</td>\n",
       "      <td>Right</td>\n",
       "      <td>Female</td>\n",
       "      <td>48</td>\n",
       "      <td>MEEI_Standard_Set/Synkinetic/NearNormalSynkine...</td>\n",
       "      <td>2</td>\n",
       "    </tr>\n",
       "    <tr>\n",
       "      <th>45</th>\n",
       "      <td>Synkinetic</td>\n",
       "      <td>NearNormal</td>\n",
       "      <td>4</td>\n",
       "      <td>Right</td>\n",
       "      <td>Male</td>\n",
       "      <td>35</td>\n",
       "      <td>MEEI_Standard_Set/Synkinetic/NearNormalSynkine...</td>\n",
       "      <td>2</td>\n",
       "    </tr>\n",
       "    <tr>\n",
       "      <th>46</th>\n",
       "      <td>Synkinetic</td>\n",
       "      <td>NearNormal</td>\n",
       "      <td>5</td>\n",
       "      <td>Left</td>\n",
       "      <td>Male</td>\n",
       "      <td>40</td>\n",
       "      <td>MEEI_Standard_Set/Synkinetic/NearNormalSynkine...</td>\n",
       "      <td>2</td>\n",
       "    </tr>\n",
       "    <tr>\n",
       "      <th>47</th>\n",
       "      <td>Synkinetic</td>\n",
       "      <td>Severe</td>\n",
       "      <td>1</td>\n",
       "      <td>Right</td>\n",
       "      <td>Female</td>\n",
       "      <td>28</td>\n",
       "      <td>MEEI_Standard_Set/Synkinetic/SevereSynkinetic/...</td>\n",
       "      <td>5</td>\n",
       "    </tr>\n",
       "    <tr>\n",
       "      <th>48</th>\n",
       "      <td>Synkinetic</td>\n",
       "      <td>Severe</td>\n",
       "      <td>2</td>\n",
       "      <td>Left</td>\n",
       "      <td>Female</td>\n",
       "      <td>30</td>\n",
       "      <td>MEEI_Standard_Set/Synkinetic/SevereSynkinetic/...</td>\n",
       "      <td>5</td>\n",
       "    </tr>\n",
       "    <tr>\n",
       "      <th>49</th>\n",
       "      <td>Synkinetic</td>\n",
       "      <td>Severe</td>\n",
       "      <td>3</td>\n",
       "      <td>Right</td>\n",
       "      <td>Male</td>\n",
       "      <td>50</td>\n",
       "      <td>MEEI_Standard_Set/Synkinetic/SevereSynkinetic/...</td>\n",
       "      <td>5</td>\n",
       "    </tr>\n",
       "    <tr>\n",
       "      <th>50</th>\n",
       "      <td>Synkinetic</td>\n",
       "      <td>Severe</td>\n",
       "      <td>4</td>\n",
       "      <td>Right</td>\n",
       "      <td>Male</td>\n",
       "      <td>76</td>\n",
       "      <td>MEEI_Standard_Set/Synkinetic/SevereSynkinetic/...</td>\n",
       "      <td>5</td>\n",
       "    </tr>\n",
       "  </tbody>\n",
       "</table>\n",
       "</div>"
      ],
      "text/plain": [
       "      Category Sub-category   #   Side  Gender  Age  \\\n",
       "0      Flaccid     Complete   1   Left    Male   54   \n",
       "1      Flaccid     Complete   2  Right  Female   16   \n",
       "2      Flaccid     Complete   3  Right    Male   38   \n",
       "3      Flaccid     Complete   4   Left  Female   31   \n",
       "4      Flaccid     Complete   5   Left  Female   52   \n",
       "5      Flaccid         Mild   1   Left    Male   72   \n",
       "6      Flaccid         Mild   2  Right  Female   55   \n",
       "7      Flaccid         Mild   3   Left    Male   75   \n",
       "8      Flaccid     Moderate   1   Left    Male   51   \n",
       "9      Flaccid     Moderate   3   Left  Female   62   \n",
       "10     Flaccid     Moderate   4  Right    Male   21   \n",
       "11     Flaccid     Moderate   5  Right  Female   64   \n",
       "12     Flaccid   NearNormal   1   Left  Female   39   \n",
       "13     Flaccid   NearNormal   2  Right  Female   53   \n",
       "14     Flaccid   NearNormal   4   Left    Male   30   \n",
       "15     Flaccid   NearNormal   5  Right    Male   47   \n",
       "16     Flaccid       Severe   1   Left    Male   46   \n",
       "17     Flaccid       Severe   2   Left  Female   58   \n",
       "18     Flaccid       Severe   3  Right  Female   28   \n",
       "19     Flaccid       Severe   5   Left  Female   50   \n",
       "20      Normal          NaN   1    NaN    Male   75   \n",
       "21      Normal          NaN   2    NaN    Male   36   \n",
       "22      Normal          NaN   3    NaN    Male   29   \n",
       "23      Normal          NaN   4    NaN  Female   24   \n",
       "24      Normal          NaN   5    NaN  Female   35   \n",
       "25      Normal          NaN   6    NaN  Female   33   \n",
       "26      Normal          NaN   7    NaN  Female   48   \n",
       "27      Normal          NaN   8    NaN    Male   33   \n",
       "28      Normal          NaN   9    NaN  Female   92   \n",
       "29      Normal          NaN  10    NaN    Male   27   \n",
       "30  Synkinetic     Complete   1  Right  Female   61   \n",
       "31  Synkinetic     Complete   2   Left  Female   68   \n",
       "32  Synkinetic     Complete   3  Right  Female   36   \n",
       "33  Synkinetic     Complete   4   Left    Male   55   \n",
       "34  Synkinetic         Mild   1   Left    Male   50   \n",
       "35  Synkinetic         Mild   2  Right    Male   77   \n",
       "36  Synkinetic         Mild   3  Right  Female   77   \n",
       "37  Synkinetic         Mild   5   Left  Female   53   \n",
       "38  Synkinetic     Moderate   1  Right  Female   59   \n",
       "39  Synkinetic     Moderate   2  Right  Female   60   \n",
       "40  Synkinetic     Moderate   3   Left  Female   58   \n",
       "41  Synkinetic     Moderate   5   Left    Male   42   \n",
       "42  Synkinetic   NearNormal   1  Right  Female   58   \n",
       "43  Synkinetic   NearNormal   2   Left  Female   46   \n",
       "44  Synkinetic   NearNormal   3  Right  Female   48   \n",
       "45  Synkinetic   NearNormal   4  Right    Male   35   \n",
       "46  Synkinetic   NearNormal   5   Left    Male   40   \n",
       "47  Synkinetic       Severe   1  Right  Female   28   \n",
       "48  Synkinetic       Severe   2   Left  Female   30   \n",
       "49  Synkinetic       Severe   3  Right    Male   50   \n",
       "50  Synkinetic       Severe   4  Right    Male   76   \n",
       "\n",
       "                                                 Path  HB_scale  \n",
       "0   MEEI_Standard_Set/Flaccid/CompleteFlaccid/Comp...         6  \n",
       "1   MEEI_Standard_Set/Flaccid/CompleteFlaccid/Comp...         6  \n",
       "2   MEEI_Standard_Set/Flaccid/CompleteFlaccid/Comp...         6  \n",
       "3   MEEI_Standard_Set/Flaccid/CompleteFlaccid/Comp...         6  \n",
       "4   MEEI_Standard_Set/Flaccid/CompleteFlaccid/Comp...         6  \n",
       "5   MEEI_Standard_Set/Flaccid/MildFlaccid/MildFlac...         3  \n",
       "6   MEEI_Standard_Set/Flaccid/MildFlaccid/MildFlac...         3  \n",
       "7   MEEI_Standard_Set/Flaccid/MildFlaccid/MildFlac...         3  \n",
       "8   MEEI_Standard_Set/Flaccid/ModerateFlaccid/Mode...         4  \n",
       "9   MEEI_Standard_Set/Flaccid/ModerateFlaccid/Mode...         4  \n",
       "10  MEEI_Standard_Set/Flaccid/ModerateFlaccid/Mode...         4  \n",
       "11  MEEI_Standard_Set/Flaccid/ModerateFlaccid/Mode...         4  \n",
       "12  MEEI_Standard_Set/Flaccid/NearNormalFlaccid/Ne...         2  \n",
       "13  MEEI_Standard_Set/Flaccid/NearNormalFlaccid/Ne...         2  \n",
       "14  MEEI_Standard_Set/Flaccid/NearNormalFlaccid/Ne...         2  \n",
       "15  MEEI_Standard_Set/Flaccid/NearNormalFlaccid/Ne...         2  \n",
       "16  MEEI_Standard_Set/Flaccid/SevereFlaccid/Severe...         5  \n",
       "17  MEEI_Standard_Set/Flaccid/SevereFlaccid/Severe...         5  \n",
       "18  MEEI_Standard_Set/Flaccid/SevereFlaccid/Severe...         5  \n",
       "19  MEEI_Standard_Set/Flaccid/SevereFlaccid/Severe...         5  \n",
       "20                   MEEI_Standard_Set/Normal/Normal1         1  \n",
       "21                   MEEI_Standard_Set/Normal/Normal2         1  \n",
       "22                   MEEI_Standard_Set/Normal/Normal3         1  \n",
       "23                   MEEI_Standard_Set/Normal/Normal4         1  \n",
       "24                   MEEI_Standard_Set/Normal/Normal5         1  \n",
       "25                   MEEI_Standard_Set/Normal/Normal6         1  \n",
       "26                   MEEI_Standard_Set/Normal/Normal7         1  \n",
       "27                   MEEI_Standard_Set/Normal/Normal8         1  \n",
       "28                   MEEI_Standard_Set/Normal/Normal9         1  \n",
       "29                  MEEI_Standard_Set/Normal/Normal10         1  \n",
       "30  MEEI_Standard_Set/Synkinetic/CompleteSynkineti...         6  \n",
       "31  MEEI_Standard_Set/Synkinetic/CompleteSynkineti...         6  \n",
       "32  MEEI_Standard_Set/Synkinetic/CompleteSynkineti...         6  \n",
       "33  MEEI_Standard_Set/Synkinetic/CompleteSynkineti...         6  \n",
       "34  MEEI_Standard_Set/Synkinetic/MildSynkinetic/Mi...         3  \n",
       "35  MEEI_Standard_Set/Synkinetic/MildSynkinetic/Mi...         3  \n",
       "36  MEEI_Standard_Set/Synkinetic/MildSynkinetic/Mi...         3  \n",
       "37  MEEI_Standard_Set/Synkinetic/MildSynkinetic/Mi...         3  \n",
       "38  MEEI_Standard_Set/Synkinetic/ModerateSynkineti...         4  \n",
       "39  MEEI_Standard_Set/Synkinetic/ModerateSynkineti...         4  \n",
       "40  MEEI_Standard_Set/Synkinetic/ModerateSynkineti...         4  \n",
       "41  MEEI_Standard_Set/Synkinetic/ModerateSynkineti...         4  \n",
       "42  MEEI_Standard_Set/Synkinetic/NearNormalSynkine...         2  \n",
       "43  MEEI_Standard_Set/Synkinetic/NearNormalSynkine...         2  \n",
       "44  MEEI_Standard_Set/Synkinetic/NearNormalSynkine...         2  \n",
       "45  MEEI_Standard_Set/Synkinetic/NearNormalSynkine...         2  \n",
       "46  MEEI_Standard_Set/Synkinetic/NearNormalSynkine...         2  \n",
       "47  MEEI_Standard_Set/Synkinetic/SevereSynkinetic/...         5  \n",
       "48  MEEI_Standard_Set/Synkinetic/SevereSynkinetic/...         5  \n",
       "49  MEEI_Standard_Set/Synkinetic/SevereSynkinetic/...         5  \n",
       "50  MEEI_Standard_Set/Synkinetic/SevereSynkinetic/...         5  "
      ]
     },
     "execution_count": 100,
     "metadata": {},
     "output_type": "execute_result"
    }
   ],
   "source": [
    "pat_info"
   ]
  },
  {
   "cell_type": "code",
   "execution_count": null,
   "metadata": {},
   "outputs": [],
   "source": [
    "# x - choose one\n",
    "all_ids = loaded_pats[0]\n",
    "all_imgs = loaded_pats[1]\n",
    "all_lms = loaded_pats[2]\n",
    "all_features = loaded_pats[3]\n",
    "\n",
    "# y\n",
    "all_hb = loaded_pats[4]"
   ]
  },
  {
   "cell_type": "code",
   "execution_count": null,
   "metadata": {},
   "outputs": [
    {
     "data": {
      "text/plain": [
       "array([], dtype=int64)"
      ]
     },
     "execution_count": 102,
     "metadata": {},
     "output_type": "execute_result"
    }
   ],
   "source": [
    "# Find NaN and Inf values (this step should no longer be necessary)\n",
    "bad_indices = np.where(np.isnan(all_features).sum(axis=1) > 0)[0]\n",
    "bad_indices = np.append(bad_indices, np.where(np.isinf(all_features).sum(axis=1) > 0)[0])\n",
    "bad_indices.sort()\n",
    "bad_indices"
   ]
  },
  {
   "cell_type": "code",
   "execution_count": null,
   "metadata": {},
   "outputs": [
    {
     "data": {
      "text/plain": [
       "((408, 29), (408,))"
      ]
     },
     "execution_count": 103,
     "metadata": {},
     "output_type": "execute_result"
    }
   ],
   "source": [
    "# drop bad indices \n",
    "# x\n",
    "all_ids = np.delete(all_ids, bad_indices, axis=0)\n",
    "all_imgs = np.delete(all_imgs, bad_indices, axis=0)\n",
    "all_lms = np.delete(all_lms, bad_indices, axis=0)\n",
    "all_features = np.delete(all_features, bad_indices, axis=0)\n",
    "X = all_features\n",
    "\n",
    "# y\n",
    "all_hb = np.delete(all_hb, bad_indices, axis=0)\n",
    "new_hb = np.array([1 if x >= 2 else 0 for x in all_hb])\n",
    "Y = new_hb # comment this out if you want to use the original hb values (6 categories)\n",
    "\n",
    "all_features.shape, all_hb.shape"
   ]
  },
  {
   "cell_type": "code",
   "execution_count": null,
   "metadata": {},
   "outputs": [],
   "source": [
    "plot_df = pd.DataFrame(all_features, columns = ['f'+str(i) for i in range(0, 29)])"
   ]
  },
  {
   "cell_type": "code",
   "execution_count": null,
   "metadata": {},
   "outputs": [],
   "source": [
    "plot_df['hb'] = all_hb"
   ]
  },
  {
   "cell_type": "code",
   "execution_count": null,
   "metadata": {},
   "outputs": [],
   "source": [
    "def feature_plot(df, which_feature, group_by):\n",
    "    sns.displot(df, x=which_feature, hue=group_by, element=\"step\")\n",
    "\n",
    "#for i in range(0, 29):\n",
    "#    feature_plot(plot_df, 'f'+str(i), 'hb')"
   ]
  },
  {
   "cell_type": "code",
   "execution_count": null,
   "metadata": {},
   "outputs": [
    {
     "name": "stdout",
     "output_type": "stream",
     "text": [
      "Training IDs: [ 0  1  2  5  6  7  8  9 10 11 14 18 19 20 21 24 27 28 29 31 33 34 35 38\n",
      " 39 40 41 42 43 44 46]\n",
      "Testing IDs: [ 3  4 12 13 15 16 17 22 23 25 26 30 32 36 37 45 47 48 49 50]\n"
     ]
    }
   ],
   "source": [
    "# Split IDs into train and test\n",
    "random.seed(59)\n",
    "subject_ids = [i for i in range(51)]\n",
    "train_ids = np.sort(np.array(random.sample(subject_ids, 31)))\n",
    "test_ids = np.sort(np.array([i for i in subject_ids if i not in train_ids]))\n",
    "\n",
    "print('Training IDs:',train_ids)\n",
    "print('Testing IDs:',test_ids)"
   ]
  },
  {
   "cell_type": "code",
   "execution_count": null,
   "metadata": {},
   "outputs": [
    {
     "name": "stdout",
     "output_type": "stream",
     "text": [
      "Training x shape: (248, 29)\n",
      "Training y shape: (248,)\n",
      "Testing x shape: (160, 29)\n",
      "Testing y shape: (160,)\n"
     ]
    }
   ],
   "source": [
    "# Next, match the IDs to the indices in the data\n",
    "train_idx = np.sort(np.where(np.isin(all_ids, train_ids))[0])\n",
    "test_idx = np.sort(np.where(np.isin(all_ids, test_ids))[0])\n",
    "\n",
    "x_train, x_test = X[train_idx], X[test_idx]\n",
    "y_train, y_test = Y[train_idx], Y[test_idx]\n",
    "\n",
    "print('Training x shape:', x_train.shape)\n",
    "print('Training y shape:', y_train.shape)\n",
    "print('Testing x shape:', x_test.shape)\n",
    "print('Testing y shape:', y_test.shape)"
   ]
  },
  {
   "cell_type": "code",
   "execution_count": null,
   "metadata": {},
   "outputs": [
    {
     "data": {
      "text/plain": [
       "((280, 29), (128, 29), (280,), (128,))"
      ]
     },
     "execution_count": 109,
     "metadata": {},
     "output_type": "execute_result"
    }
   ],
   "source": [
    "train_indx, test_indx = next(\n",
    "    GroupShuffleSplit(random_state=7, test_size=0.3).split(X, Y, all_ids))\n",
    "\n",
    "X_train, X_test, Y_train, Y_test = \\\n",
    "    X[train_indx], X[test_indx], Y[train_indx], Y[test_indx]\n",
    "X_train.shape, X_test.shape, Y_train.shape, Y_test.shape"
   ]
  },
  {
   "cell_type": "code",
   "execution_count": null,
   "metadata": {},
   "outputs": [],
   "source": [
    "x_train = X_train\n",
    "x_test = X_test\n",
    "y_train = Y_train\n",
    "y_test = Y_test"
   ]
  },
  {
   "cell_type": "code",
   "execution_count": null,
   "metadata": {},
   "outputs": [
    {
     "data": {
      "text/plain": [
       "(array([ 0,  2,  3,  4,  5,  6,  7,  8,  9, 11, 12, 14, 16, 19, 21, 23, 24,\n",
       "        25, 26, 27, 28, 31, 32, 34, 36, 39, 40, 41, 42, 43, 45, 46, 47, 48,\n",
       "        49]),\n",
       " array([ 1, 10, 13, 15, 17, 18, 20, 22, 29, 30, 33, 35, 37, 38, 44, 50]))"
      ]
     },
     "execution_count": 111,
     "metadata": {},
     "output_type": "execute_result"
    }
   ],
   "source": [
    "np.unique(all_ids[train_indx]), np.unique(all_ids[test_indx])"
   ]
  },
  {
   "cell_type": "code",
   "execution_count": null,
   "metadata": {},
   "outputs": [
    {
     "data": {
      "text/plain": [
       "(array([  1.645194  ,   2.8099802 ,  12.804038  ,   1.0514685 ,\n",
       "          0.02872195,   0.04908276,   0.22726855,   2.5692458 ,\n",
       "          1.0851028 ,   1.0569661 ,   1.3587397 ,   0.7349562 ,\n",
       "          0.68135345,   0.78855604,  14.76165   ,   1.2982798 ,\n",
       "          1.564689  ,   1.6300427 ,   0.1822432 ,   0.43270245,\n",
       "          0.4529679 ,   1.7084181 ,  11.120797  , -18.251646  ,\n",
       "          1.0966494 ,   0.7621016 ,   0.7131144 ,   0.29012558,\n",
       "          0.12468714], dtype=float32),\n",
       " 1)"
      ]
     },
     "execution_count": 112,
     "metadata": {},
     "output_type": "execute_result"
    }
   ],
   "source": [
    "x_train[0], y_train[0]"
   ]
  },
  {
   "cell_type": "code",
   "execution_count": null,
   "metadata": {},
   "outputs": [
    {
     "data": {
      "text/plain": [
       "(array([ 2.1688318 ,  5.7567234 ,  7.4379115 ,  1.0764056 ,  0.03787135,\n",
       "         0.10081324,  0.13055022,  0.7424527 ,  1.0363585 ,  1.0367308 ,\n",
       "         1.0354205 ,  0.10949325,  0.09149812,  0.12822627,  2.7387393 ,\n",
       "         1.0146147 ,  1.5828909 ,  1.4162164 ,  0.16872515,  0.3655438 ,\n",
       "         0.351555  ,  1.3814355 ,  0.09058161, -0.2640291 ,  1.0116374 ,\n",
       "         0.78680843,  0.7529882 ,  0.268227  ,  0.11025678], dtype=float32),\n",
       " 1)"
      ]
     },
     "execution_count": 113,
     "metadata": {},
     "output_type": "execute_result"
    }
   ],
   "source": [
    "x_test[0], y_test[0]"
   ]
  },
  {
   "cell_type": "code",
   "execution_count": null,
   "metadata": {},
   "outputs": [
    {
     "data": {
      "text/plain": [
       "array([1, 1, 1, 1, 1, 1, 1, 1, 1, 1, 1, 1, 1, 1, 1, 1, 1, 1, 1, 1, 1, 1,\n",
       "       1, 1, 1, 1, 1, 1, 1, 1, 1, 1, 1, 1, 1, 1, 1, 1, 1, 1, 1, 1, 1, 1,\n",
       "       1, 1, 1, 1, 1, 1, 1, 1, 1, 1, 1, 1, 1, 1, 1, 1])"
      ]
     },
     "execution_count": 114,
     "metadata": {},
     "output_type": "execute_result"
    }
   ],
   "source": [
    "y_train[220:301]"
   ]
  },
  {
   "cell_type": "code",
   "execution_count": null,
   "metadata": {},
   "outputs": [],
   "source": [
    "#le = LabelEncoder()\n",
    "#y_train = le.fit_transform(y_train)"
   ]
  },
  {
   "cell_type": "code",
   "execution_count": null,
   "metadata": {},
   "outputs": [
    {
     "data": {
      "text/plain": [
       "array([1, 1, 1, 1, 1, 1, 1, 1, 1, 1, 1, 1, 1, 1, 1, 1, 1, 1, 1, 1, 1, 1,\n",
       "       1, 1, 1, 1, 1, 1, 1, 1, 1, 1, 1, 1, 1, 1, 1, 1, 1, 1, 1, 1, 1, 1,\n",
       "       1, 1, 1, 1, 1, 1, 1, 1, 1, 1, 1, 1, 1, 1, 1, 1])"
      ]
     },
     "execution_count": 116,
     "metadata": {},
     "output_type": "execute_result"
    }
   ],
   "source": [
    "y_train[220:301]"
   ]
  },
  {
   "cell_type": "code",
   "execution_count": null,
   "metadata": {},
   "outputs": [],
   "source": [
    "clf = MLPClassifier(solver='adam', hidden_layer_sizes=(8,7), random_state=1,\n",
    "                                    max_iter=10000, activation='relu', learning_rate='constant',\n",
    "                                    learning_rate_init=0.2045,momentum=0.19)\n",
    "clf.fit(x_train,y_train)\n",
    "y_pred = clf.predict(x_test)"
   ]
  },
  {
   "cell_type": "code",
   "execution_count": null,
   "metadata": {},
   "outputs": [
    {
     "name": "stdout",
     "output_type": "stream",
     "text": [
      "RMSE: 0.433013\n",
      "Accuracy: 0.812\n"
     ]
    }
   ],
   "source": [
    "rmse = np.sqrt(mean_squared_error(y_test, y_pred))\n",
    "print(\"RMSE: %2f\" % (rmse))\n",
    "print('Accuracy:', round(accuracy_score(y_test, y_pred), 3))"
   ]
  },
  {
   "cell_type": "code",
   "execution_count": null,
   "metadata": {},
   "outputs": [
    {
     "data": {
      "text/plain": [
       "(array([1, 1, 1, 1, 1, 1, 1, 1, 1, 1]), array([1, 1, 1, 1, 1, 1, 1, 1, 1, 1]))"
      ]
     },
     "execution_count": 119,
     "metadata": {},
     "output_type": "execute_result"
    }
   ],
   "source": [
    "y_pred[20:30], y_test[20:30]"
   ]
  },
  {
   "attachments": {},
   "cell_type": "markdown",
   "metadata": {},
   "source": [
    "### incorrect predictions"
   ]
  },
  {
   "cell_type": "code",
   "execution_count": null,
   "metadata": {},
   "outputs": [
    {
     "data": {
      "text/plain": [
       "array([136, 137, 138, 139, 140, 141, 142, 143, 176, 177, 178, 179, 180,\n",
       "       181, 182, 183, 184, 185, 186, 187, 188, 189, 190, 191])"
      ]
     },
     "execution_count": 120,
     "metadata": {},
     "output_type": "execute_result"
    }
   ],
   "source": [
    "test_idx[np.where(y_pred != y_test)[0]]"
   ]
  },
  {
   "cell_type": "code",
   "execution_count": null,
   "metadata": {},
   "outputs": [
    {
     "data": {
      "text/plain": [
       "array([17.   , 17.125, 17.25 , 17.375, 17.5  , 17.625, 17.75 , 17.875,\n",
       "       22.   , 22.125, 22.25 , 22.375, 22.5  , 22.625, 22.75 , 22.875,\n",
       "       23.   , 23.125, 23.25 , 23.375, 23.5  , 23.625, 23.75 , 23.875])"
      ]
     },
     "execution_count": 121,
     "metadata": {},
     "output_type": "execute_result"
    }
   ],
   "source": [
    "test_idx[np.where(y_pred != y_test)[0]]/8"
   ]
  },
  {
   "attachments": {},
   "cell_type": "markdown",
   "metadata": {},
   "source": [
    "### false positives: said ill, actually healthy"
   ]
  },
  {
   "cell_type": "code",
   "execution_count": null,
   "metadata": {},
   "outputs": [
    {
     "data": {
      "text/plain": [
       "array([136, 137, 138, 139, 140, 141, 142, 143, 176, 177, 178, 179, 180,\n",
       "       181, 182, 183, 184, 185, 186, 187, 188, 189, 190, 191])"
      ]
     },
     "execution_count": 122,
     "metadata": {},
     "output_type": "execute_result"
    }
   ],
   "source": [
    "test_idx[np.where(y_pred > y_test)[0]]"
   ]
  },
  {
   "cell_type": "code",
   "execution_count": null,
   "metadata": {},
   "outputs": [
    {
     "data": {
      "text/plain": [
       "array([17.   , 17.125, 17.25 , 17.375, 17.5  , 17.625, 17.75 , 17.875,\n",
       "       22.   , 22.125, 22.25 , 22.375, 22.5  , 22.625, 22.75 , 22.875,\n",
       "       23.   , 23.125, 23.25 , 23.375, 23.5  , 23.625, 23.75 , 23.875])"
      ]
     },
     "execution_count": 123,
     "metadata": {},
     "output_type": "execute_result"
    }
   ],
   "source": [
    "test_idx[np.where(y_pred > y_test)[0]]/8"
   ]
  },
  {
   "attachments": {},
   "cell_type": "markdown",
   "metadata": {},
   "source": [
    "### false negatives: said healthy, actually ill"
   ]
  },
  {
   "cell_type": "code",
   "execution_count": null,
   "metadata": {},
   "outputs": [
    {
     "data": {
      "text/plain": [
       "array([], dtype=int64)"
      ]
     },
     "execution_count": 124,
     "metadata": {},
     "output_type": "execute_result"
    }
   ],
   "source": [
    "test_idx[np.where(y_pred < y_test)[0]]"
   ]
  },
  {
   "cell_type": "code",
   "execution_count": null,
   "metadata": {},
   "outputs": [
    {
     "data": {
      "text/plain": [
       "array([], dtype=float64)"
      ]
     },
     "execution_count": 125,
     "metadata": {},
     "output_type": "execute_result"
    }
   ],
   "source": [
    "test_idx[np.where(y_pred < y_test)[0]]/8"
   ]
  },
  {
   "attachments": {},
   "cell_type": "markdown",
   "metadata": {},
   "source": [
    "### Now try data standardaization / normalization"
   ]
  },
  {
   "cell_type": "code",
   "execution_count": null,
   "metadata": {},
   "outputs": [
    {
     "data": {
      "text/plain": [
       "array([  1.645194  ,   2.8099802 ,  12.804038  ,   1.0514685 ,\n",
       "         0.02872195,   0.04908276,   0.22726855,   2.5692458 ,\n",
       "         1.0851028 ,   1.0569661 ,   1.3587397 ,   0.7349562 ,\n",
       "         0.68135345,   0.78855604,  14.76165   ,   1.2982798 ,\n",
       "         1.564689  ,   1.6300427 ,   0.1822432 ,   0.43270245,\n",
       "         0.4529679 ,   1.7084181 ,  11.120797  , -18.251646  ,\n",
       "         1.0966494 ,   0.7621016 ,   0.7131144 ,   0.29012558,\n",
       "         0.12468714], dtype=float32)"
      ]
     },
     "execution_count": 126,
     "metadata": {},
     "output_type": "execute_result"
    }
   ],
   "source": [
    "# Before transformation\n",
    "x_train[0]"
   ]
  },
  {
   "attachments": {},
   "cell_type": "markdown",
   "metadata": {},
   "source": [
    "#### We try a few different scalers and fit them (only) to the training data\n",
    "\n",
    " - StandardScaler\n",
    " - MinMaxScaler\n",
    " - PowerTransformer (Box-Cox)\n",
    " - QuantileTransformer (Gaussian)\n",
    "\n",
    "See https://scikit-learn.org/stable/modules/preprocessing.html#non-linear-transformation\n"
   ]
  },
  {
   "cell_type": "code",
   "execution_count": null,
   "metadata": {},
   "outputs": [],
   "source": [
    "scaler = StandardScaler().fit(x_train) # standardize features by removing the mean and scaling to unit variance\n",
    "#scaler = MinMaxScaler().fit(x_train) # scale features to lie between 0 and 1\n",
    "#scaler = PowerTransformer(method='box-cox').fit(x_train) # apply a power transform featurewise to make data more Gaussian-like\n",
    "#scaler = QuantileTransformer(output_distribution='normal').fit(x_train) # transform features using quantiles information\n",
    "\n",
    "x_train_std, x_test_std = scaler.transform(x_train), scaler.transform(x_test)\n",
    "x_train, x_test = x_train_std, x_test_std"
   ]
  },
  {
   "cell_type": "code",
   "execution_count": null,
   "metadata": {},
   "outputs": [
    {
     "data": {
      "text/plain": [
       "array([ 7.5686336e-01,  6.6375923e-01,  2.2879686e+00,  8.4072119e-01,\n",
       "        7.5584733e-01,  6.6106766e-01,  2.2951081e+00,  2.0860639e+00,\n",
       "        1.6358169e+00, -5.7756376e-01,  5.2196631e+00,  1.0356594e+00,\n",
       "        8.8419801e-01,  1.0915219e+00,  4.1579514e+00,  4.7211723e+00,\n",
       "        1.9037715e-01,  3.5391693e-04, -6.8530107e-01,  4.7916758e-01,\n",
       "        5.4603714e-01,  8.5167414e-01,  3.7869074e+00, -3.7612903e+00,\n",
       "        1.3448803e+00, -5.4771471e-01, -7.6003677e-01,  2.8627628e-01,\n",
       "        3.7579951e-01], dtype=float32)"
      ]
     },
     "execution_count": 136,
     "metadata": {},
     "output_type": "execute_result"
    }
   ],
   "source": [
    "# After transformation\n",
    "x_train[0]"
   ]
  },
  {
   "cell_type": "code",
   "execution_count": null,
   "metadata": {},
   "outputs": [],
   "source": [
    "#clf = MLPClassifier(solver='adam', hidden_layer_sizes=(56,), random_state=1,\n",
    "#                                    max_iter=10000, activation='relu', learning_rate='constant',\n",
    "#                                    learning_rate_init=0.2045,momentum=0.19)\n",
    "clf = MLPClassifier(solver='sgd', hidden_layer_sizes=(7,8), random_state=1,\n",
    "                                    max_iter=10000, activation='logistic', learning_rate='invscaling')\n",
    "clf.fit(x_train,y_train)\n",
    "y_pred = clf.predict(x_test)"
   ]
  },
  {
   "cell_type": "code",
   "execution_count": null,
   "metadata": {},
   "outputs": [],
   "source": [
    "#from tpot import TPOTClassifier\n",
    "#tpot_clf = TPOTClassifier(generations=5, population_size=100, \n",
    "#                          verbosity=2, offspring_size=100, scoring='accuracy', cv=6)\n",
    "#Training and prediction\n",
    "#tpot_clf.fit(x_train,y_train)\n",
    "#y_pred = tpot_clf.predict(x_test)"
   ]
  },
  {
   "cell_type": "code",
   "execution_count": null,
   "metadata": {},
   "outputs": [
    {
     "name": "stdout",
     "output_type": "stream",
     "text": [
      "RMSE: 0.433013\n",
      "Accuracy: 0.812\n"
     ]
    }
   ],
   "source": [
    "rmse = np.sqrt(mean_squared_error(y_test, y_pred))\n",
    "print(\"RMSE: %2f\" %(rmse))\n",
    "print('Accuracy:', round(accuracy_score(y_test, y_pred), 3))"
   ]
  },
  {
   "cell_type": "code",
   "execution_count": null,
   "metadata": {},
   "outputs": [],
   "source": []
  },
  {
   "attachments": {},
   "cell_type": "markdown",
   "metadata": {},
   "source": [
    "# Cross-validation"
   ]
  },
  {
   "cell_type": "code",
   "execution_count": null,
   "metadata": {},
   "outputs": [
    {
     "data": {
      "text/plain": [
       "array([0.84615385, 0.76923077, 0.92307692, 0.76923077, 0.69230769,\n",
       "       0.84615385, 0.84615385, 0.84615385, 0.92307692, 0.76923077])"
      ]
     },
     "execution_count": 140,
     "metadata": {},
     "output_type": "execute_result"
    }
   ],
   "source": [
    "#clf = svm.SVC(kernel='linear', C=1, random_state=42)\n",
    "scores = cross_val_score(clf, X, Y, \n",
    "                         cv=GroupShuffleSplit(n_splits=10, random_state=7, test_size=0.25).split(X, Y, all_ids))\n",
    "scores"
   ]
  },
  {
   "cell_type": "code",
   "execution_count": null,
   "metadata": {},
   "outputs": [
    {
     "name": "stdout",
     "output_type": "stream",
     "text": [
      "0.82 accuracy with a standard deviation of 0.07\n"
     ]
    }
   ],
   "source": [
    "print(\"%0.2f accuracy with a standard deviation of %0.2f\" % (scores.mean(), scores.std()))"
   ]
  },
  {
   "cell_type": "code",
   "execution_count": null,
   "metadata": {},
   "outputs": [],
   "source": [
    "##TODO: make a graph / table on CV results for different type of scaling "
   ]
  },
  {
   "cell_type": "code",
   "execution_count": null,
   "metadata": {},
   "outputs": [],
   "source": []
  }
 ],
 "metadata": {
  "kernelspec": {
   "display_name": "Python 3.10.6 ('bp_tf')",
   "language": "python",
   "name": "python3"
  },
  "language_info": {
   "codemirror_mode": {
    "name": "ipython",
    "version": 3
   },
   "file_extension": ".py",
   "mimetype": "text/x-python",
   "name": "python",
   "nbconvert_exporter": "python",
   "pygments_lexer": "ipython3",
   "version": "3.10.6"
  },
  "vscode": {
   "interpreter": {
    "hash": "db5752ea18a33746afc5a56212e0bb0179206449022f6899328c96e40c7d10e5"
   }
  }
 },
 "nbformat": 4,
 "nbformat_minor": 4
}
